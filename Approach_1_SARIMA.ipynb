{
 "cells": [
  {
   "cell_type": "markdown",
   "metadata": {},
   "source": [
    "### SARIMA\n",
    "##### Seasonal AutoRegressive Integrated Moving Average\n",
    "- SARIMA is well-suited for short-term forecasting (14 days in this case).\n",
    "- It can capture both trend and seasonal patterns in the data.\n",
    "- It's interpretable, which is useful for providing justified comments on your approach.\n",
    "- It works well with daily or weekly data, which is likely the case for a 14-day forecast.\n",
    "\n",
    "---\n",
    "- It's specifically designed for time series data and can capture both trend and seasonality.\n",
    "- It's a well-established method in time series forecasting, making it a good baseline model.\n",
    "- It's relatively easy to interpret, which helps in explaining the model's decisions.\n",
    "- It works well for short-term forecasts, which aligns with the 14-day requirement."
   ]
  },
  {
   "cell_type": "markdown",
   "metadata": {},
   "source": [
    "### Pipeline\n",
    "The data load pipeline is the same as in EDA."
   ]
  },
  {
   "cell_type": "code",
   "execution_count": 3,
   "metadata": {},
   "outputs": [],
   "source": [
    "# Libraries setup\n",
    "import os\n",
    "\n",
    "import pandas as pd\n",
    "import matplotlib.pyplot as plt\n",
    "\n",
    "from statsmodels.tsa.statespace.sarimax import SARIMAX\n",
    "from sklearn.metrics import mean_absolute_error, mean_squared_error\n",
    "from tqdm import tqdm"
   ]
  },
  {
   "cell_type": "code",
   "execution_count": null,
   "metadata": {},
   "outputs": [],
   "source": []
  }
 ],
 "metadata": {
  "kernelspec": {
   "display_name": "demand_forecast",
   "language": "python",
   "name": "python3"
  },
  "language_info": {
   "codemirror_mode": {
    "name": "ipython",
    "version": 3
   },
   "file_extension": ".py",
   "mimetype": "text/x-python",
   "name": "python",
   "nbconvert_exporter": "python",
   "pygments_lexer": "ipython3",
   "version": "3.10.14"
  }
 },
 "nbformat": 4,
 "nbformat_minor": 2
}
