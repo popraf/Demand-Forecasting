{
 "cells": [
  {
   "cell_type": "code",
   "execution_count": null,
   "metadata": {},
   "outputs": [],
   "source": []
  },
  {
   "cell_type": "markdown",
   "metadata": {},
   "source": [
    "### Features Engineering\n",
    "Feature engineering is the process of creating new features or transforming existing ones to improve \n",
    "the performance of machine learning models. "
   ]
  },
  {
   "cell_type": "markdown",
   "metadata": {},
   "source": [
    "##### Definition of new features functions"
   ]
  },
  {
   "cell_type": "code",
   "execution_count": null,
   "metadata": {},
   "outputs": [],
   "source": [
    "# Time Based Features\n",
    "def create_time_based_features(df):\n",
    "    # TODO: Use smth similar to pd.to_datetime(order_items['order_purchase_timestamp']).dt.floor('D') - avoid periods\n",
    "\n",
    "    # df['Purchase Year-Month'] = df['order_purchase_timestamp'].dt.to_period('M')\n",
    "    # df['Purchase Year'] = df['order_purchase_timestamp'].dt.to_period('Y')\n",
    "    # df['Purchase Month'] = df['order_purchase_timestamp'].dt.month\n",
    "    # df['Purchase Day Name'] = df['order_purchase_timestamp'].dt.day_name()\n",
    "    # df['Purchase Day'] = df['order_purchase_timestamp'].dt.day\n",
    "    # df['Purchase Week of Year'] = df['order_purchase_timestamp'].dt.isocalendar().week\n",
    "    # df['Purchase Is Weekend'] = df['order_purchase_timestamp'].dt.dayofweek.isin([5,6]).astype(int)\n",
    "    return df\n",
    "\n",
    "# Lag Features\n",
    "def create_lag_features(df, column, lags):\n",
    "    for lag in lags:\n",
    "        df[f'{column}_lag_{lag}'] = df.groupby('product_category_name_english')[column].shift(lag)\n",
    "    return df\n",
    "\n",
    "# Rolling Statistics\n",
    "def create_rolling_features(df, column, windows):\n",
    "    for window in windows:\n",
    "        df[f'{column}_rolling_mean_{window}'] = df.groupby('product_category_name_english')[column].rolling(window=window).mean().reset_index(0,drop=True)\n",
    "        df[f'{column}_rolling_std_{window}'] = df.groupby('product_category_name_english')[column].rolling(window=window).std().reset_index(0,drop=True)\n",
    "    return df\n",
    "\n",
    "# Exponential Moving Average\n",
    "def create_ema_features(df, column, spans):\n",
    "    for span in spans:\n",
    "        df[f'{column}_ema_{span}'] = df.groupby('product_category_name_english')[column].ewm(span=span).mean().reset_index(0,drop=True)\n",
    "    return df\n",
    "\n",
    "# Fourier Terms for Seasonality\n",
    "def fourier_series(dates, period, order):\n",
    "    t = (dates - pd.Timestamp(\"1970-01-01\")) / pd.Timedelta('1D')\n",
    "    return pd.DataFrame({f'fourier_cos_{period}_{n}': np.cos(2 * n * np.pi * t / period),\n",
    "                         f'fourier_sin_{period}_{n}': np.sin(2 * n * np.pi * t / period)}\n",
    "                        for n in range(1, order + 1))\n",
    "\n",
    "# Price-related Features\n",
    "def price_related_features(df):\n",
    "    df['price_rolling_mean'] = df.groupby('product_category_name_english')['price'].rolling(window=7).mean().reset_index(0,drop=True)\n",
    "    df['price_relative_to_mean'] = df['price'] / df['price_rolling_mean']\n",
    "    return df\n",
    "\n",
    "# Sold Items Quantity Features\n",
    "def quantity_related_features(df):\n",
    "    # Sort the dataframe by timestamp and category\n",
    "    df = df.sort_values(['product_category_name_english', 'order_purchase_timestamp'])\n",
    "    # Calculate rolling count of sold items quantity\n",
    "    df['quantity_rolling_count'] = df.groupby('product_category_name_english')['order_item_id'].transform(\n",
    "        lambda x: x.rolling(window='7D').count()\n",
    "    )\n",
    "    # Calculate daily quantity\n",
    "    df['daily_quantity'] = df.groupby(['product_category_name_english', df['order_purchase_timestamp'].dt.date])['order_item_id'].transform('count')\n",
    "    # Calculate quantity relative to rolling count\n",
    "    df['quantity_relative_to_count'] = df['daily_quantity'] / df['quantity_rolling_count']\n",
    "    # Calculate cumulative sum of sold items within each category\n",
    "    df['cumulative_quantity'] = df.groupby('product_category_name_english')['daily_quantity'].cumsum()\n",
    "    return df"
   ]
  },
  {
   "cell_type": "markdown",
   "metadata": {},
   "source": [
    "##### Final data pipeline that leverages functions written above"
   ]
  },
  {
   "cell_type": "code",
   "execution_count": null,
   "metadata": {},
   "outputs": [],
   "source": [
    "def features_engineering_pipeline(df):\n",
    "    df = create_time_based_features(df)\n",
    "    df = create_lag_features()\n",
    "    create_rolling_features\n",
    "    create_ema_features\n",
    "    fourier_series\n",
    "    price_related_features\n",
    "    quantity_related_features\n",
    "    return df"
   ]
  },
  {
   "cell_type": "code",
   "execution_count": null,
   "metadata": {},
   "outputs": [],
   "source": []
  }
 ],
 "metadata": {
  "language_info": {
   "name": "python"
  }
 },
 "nbformat": 4,
 "nbformat_minor": 2
}
