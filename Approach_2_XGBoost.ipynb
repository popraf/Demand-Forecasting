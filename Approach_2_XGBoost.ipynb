{
 "cells": [
  {
   "cell_type": "code",
   "execution_count": 43,
   "metadata": {},
   "outputs": [
    {
     "data": {
      "text/plain": [
       "True"
      ]
     },
     "execution_count": 43,
     "metadata": {},
     "output_type": "execute_result"
    }
   ],
   "source": [
    "# Libraries setup\n",
    "import os\n",
    "import warnings\n",
    "import pandas as pd\n",
    "import numpy as np\n",
    "\n",
    "from dotenv import load_dotenv\n",
    "from xgboost import XGBRegressor\n",
    "from sklearn.metrics import mean_absolute_error\n",
    "from sklearn.preprocessing import LabelEncoder\n",
    "from sklearn.pipeline import Pipeline\n",
    "from sklearn.base import BaseEstimator, TransformerMixin\n",
    "from tqdm import tqdm\n",
    "\n",
    "warnings.filterwarnings('ignore')\n",
    "load_dotenv()"
   ]
  },
  {
   "cell_type": "markdown",
   "metadata": {},
   "source": [
    "### Data Load Pipeline\n",
    "The data load pipeline is almost the same as in EDA. For the purpose of demonstration, it is not a new module, but placed as a function."
   ]
  },
  {
   "cell_type": "code",
   "execution_count": 44,
   "metadata": {},
   "outputs": [],
   "source": [
    "# Define paths\n",
    "fpath_data = os.environ.get(\"FPATH_DATA\")\n",
    "fpath_dicts = os.environ.get(\"FPATH_DICTS\")\n",
    "\n",
    "def get_data_order_items():\n",
    "    # Load order items data\n",
    "    order_items = pd.read_csv(fpath_data+\"order_items.csv\")\n",
    "    # Convert shipping_limit_date to timestamps\n",
    "    order_items['shipping_limit_date'] = pd.to_datetime(order_items['shipping_limit_date'])\n",
    "    # Lets load data regarding product category, drop redundant columns, check the data, and then join the data to order_items\n",
    "    product_categories = pd.read_csv(fpath_data+\"products.csv\")\n",
    "    product_categories = product_categories[[\"product_id\", \"product_category_name\"]]\n",
    "    # Drop nulls\n",
    "    product_categories = product_categories.dropna()\n",
    "    # Map categories to english ones\n",
    "    categories_translation_data = pd.read_csv(fpath_data+\"product_category_name_translation.csv\")\n",
    "    product_categories = pd.merge(product_categories, categories_translation_data, how='left', on='product_category_name')\n",
    "    # Instead of dropping 13 rows w/o translation, use the same data as originally\n",
    "    product_categories['product_category_name_english'] = product_categories['product_category_name_english'].fillna(product_categories['product_category_name'])\n",
    "    # Join product category to orders\n",
    "    order_items = pd.merge(order_items, product_categories, how='left', on='product_id')\n",
    "    # I decided to drop those without any category prescribed as those might be incorrect data\n",
    "    order_items = order_items.dropna(subset=['product_category_name'])\n",
    "    # Join data regarding purchase timestamp - first, read data\n",
    "    orders = pd.read_csv(fpath_data+'orders.csv')\n",
    "    # Keep only relevant columns\n",
    "    orders = orders[['order_id','order_purchase_timestamp']]\n",
    "    # Check for nulls\n",
    "    orders.isnull().sum()\n",
    "    # Transform order_purchase_timestamp to a timestamp object\n",
    "    orders['order_purchase_timestamp'] = pd.to_datetime(orders['order_purchase_timestamp'])\n",
    "    # Join orders data via inner - we could do also left join, but it would need to double check for nulls\n",
    "    order_items = pd.merge(order_items, orders, how='inner', on='order_id')\n",
    "    # Drop redundant data, not related to this task\n",
    "    # As this is just a demonstration, we won't be adding information such as holidays for a different set of countries the customers are from etc\n",
    "    order_items = order_items.drop(columns=['freight_value','shipping_limit_date','product_category_name'])\n",
    "    # Add a set of information regarding sale timestamp\n",
    "    order_items['Purchase Date'] = pd.to_datetime(order_items['order_purchase_timestamp']).dt.floor('D')\n",
    "    return order_items"
   ]
  },
  {
   "cell_type": "code",
   "execution_count": 45,
   "metadata": {},
   "outputs": [
    {
     "data": {
      "text/html": [
       "<div>\n",
       "<style scoped>\n",
       "    .dataframe tbody tr th:only-of-type {\n",
       "        vertical-align: middle;\n",
       "    }\n",
       "\n",
       "    .dataframe tbody tr th {\n",
       "        vertical-align: top;\n",
       "    }\n",
       "\n",
       "    .dataframe thead th {\n",
       "        text-align: right;\n",
       "    }\n",
       "</style>\n",
       "<table border=\"1\" class=\"dataframe\">\n",
       "  <thead>\n",
       "    <tr style=\"text-align: right;\">\n",
       "      <th></th>\n",
       "      <th>product_category_name_english</th>\n",
       "      <th>Purchase Date</th>\n",
       "      <th>sold_products_quantity</th>\n",
       "    </tr>\n",
       "  </thead>\n",
       "  <tbody>\n",
       "    <tr>\n",
       "      <th>0</th>\n",
       "      <td>agro_industry_and_commerce</td>\n",
       "      <td>2017-01-23</td>\n",
       "      <td>2</td>\n",
       "    </tr>\n",
       "    <tr>\n",
       "      <th>1</th>\n",
       "      <td>agro_industry_and_commerce</td>\n",
       "      <td>2017-01-31</td>\n",
       "      <td>1</td>\n",
       "    </tr>\n",
       "    <tr>\n",
       "      <th>2</th>\n",
       "      <td>agro_industry_and_commerce</td>\n",
       "      <td>2017-02-05</td>\n",
       "      <td>1</td>\n",
       "    </tr>\n",
       "    <tr>\n",
       "      <th>3</th>\n",
       "      <td>agro_industry_and_commerce</td>\n",
       "      <td>2017-02-08</td>\n",
       "      <td>1</td>\n",
       "    </tr>\n",
       "    <tr>\n",
       "      <th>4</th>\n",
       "      <td>agro_industry_and_commerce</td>\n",
       "      <td>2017-02-12</td>\n",
       "      <td>1</td>\n",
       "    </tr>\n",
       "    <tr>\n",
       "      <th>...</th>\n",
       "      <td>...</td>\n",
       "      <td>...</td>\n",
       "      <td>...</td>\n",
       "    </tr>\n",
       "    <tr>\n",
       "      <th>18499</th>\n",
       "      <td>watches_gifts</td>\n",
       "      <td>2018-08-25</td>\n",
       "      <td>3</td>\n",
       "    </tr>\n",
       "    <tr>\n",
       "      <th>18500</th>\n",
       "      <td>watches_gifts</td>\n",
       "      <td>2018-08-26</td>\n",
       "      <td>2</td>\n",
       "    </tr>\n",
       "    <tr>\n",
       "      <th>18501</th>\n",
       "      <td>watches_gifts</td>\n",
       "      <td>2018-08-27</td>\n",
       "      <td>2</td>\n",
       "    </tr>\n",
       "    <tr>\n",
       "      <th>18502</th>\n",
       "      <td>watches_gifts</td>\n",
       "      <td>2018-08-28</td>\n",
       "      <td>1</td>\n",
       "    </tr>\n",
       "    <tr>\n",
       "      <th>18503</th>\n",
       "      <td>watches_gifts</td>\n",
       "      <td>2018-08-29</td>\n",
       "      <td>2</td>\n",
       "    </tr>\n",
       "  </tbody>\n",
       "</table>\n",
       "<p>18504 rows × 3 columns</p>\n",
       "</div>"
      ],
      "text/plain": [
       "      product_category_name_english Purchase Date  sold_products_quantity\n",
       "0        agro_industry_and_commerce    2017-01-23                       2\n",
       "1        agro_industry_and_commerce    2017-01-31                       1\n",
       "2        agro_industry_and_commerce    2017-02-05                       1\n",
       "3        agro_industry_and_commerce    2017-02-08                       1\n",
       "4        agro_industry_and_commerce    2017-02-12                       1\n",
       "...                             ...           ...                     ...\n",
       "18499                 watches_gifts    2018-08-25                       3\n",
       "18500                 watches_gifts    2018-08-26                       2\n",
       "18501                 watches_gifts    2018-08-27                       2\n",
       "18502                 watches_gifts    2018-08-28                       1\n",
       "18503                 watches_gifts    2018-08-29                       2\n",
       "\n",
       "[18504 rows x 3 columns]"
      ]
     },
     "execution_count": 45,
     "metadata": {},
     "output_type": "execute_result"
    }
   ],
   "source": [
    "order_items = get_data_order_items()\n",
    "\n",
    "dataset = order_items.groupby(['product_category_name_english', 'Purchase Date']).agg(\n",
    "    sold_products_quantity=('order_item_id', 'size')\n",
    "    # sellers_count=('seller_id', 'count')\n",
    ").sort_values(by=['product_category_name_english', 'Purchase Date'], ascending=True).reset_index()\n",
    "dataset"
   ]
  },
  {
   "cell_type": "markdown",
   "metadata": {},
   "source": [
    "### Features Engineering\n",
    "Feature engineering is the process of creating new features or transforming existing ones to improve \n",
    "the performance of machine learning models. "
   ]
  },
  {
   "cell_type": "markdown",
   "metadata": {},
   "source": [
    "##### Definition of new features functions"
   ]
  },
  {
   "cell_type": "code",
   "execution_count": 46,
   "metadata": {},
   "outputs": [],
   "source": [
    "# Time Based Features\n",
    "class FeatureEngineer(BaseEstimator, TransformerMixin):\n",
    "    def fit(self, X, y=None):\n",
    "        return self\n",
    "\n",
    "    def transform(self, X):\n",
    "        X_ = X.copy()\n",
    "        X_['dayofweek'] = X_.index.dayofweek\n",
    "        X_['quarter'] = X_.index.quarter\n",
    "        X_['month'] = X_.index.month\n",
    "        X_['year'] = X_.index.year\n",
    "        X_['dayofyear'] = X_.index.dayofyear\n",
    "        X_['dayofmonth'] = X_.index.day\n",
    "        X_['weekofyear'] = X_.index.isocalendar().week\n",
    "        X_['product_category_name_english'] = X_['product_category_name_english'].astype('category')\n",
    "        return X_\n",
    "\n",
    "# # Lag Features\n",
    "# def create_lag_features(df, column, lags):\n",
    "#     for lag in lags:\n",
    "#         df[f'{column}_lag_{lag}'] = df.groupby('product_category_name_english')[column].shift(lag)\n",
    "#     return df\n",
    "\n",
    "# # Rolling Statistics\n",
    "# def create_rolling_features(df, column, windows):\n",
    "#     for window in windows:\n",
    "#         df[f'{column}_rolling_mean_{window}'] = df.groupby('product_category_name_english')[column].rolling(window=window).mean().reset_index(0,drop=True)\n",
    "#         df[f'{column}_rolling_std_{window}'] = df.groupby('product_category_name_english')[column].rolling(window=window).std().reset_index(0,drop=True)\n",
    "#     return df\n",
    "\n",
    "# # Exponential Moving Average\n",
    "# def create_ema_features(df, column, spans):\n",
    "#     for span in spans:\n",
    "#         df[f'{column}_ema_{span}'] = df.groupby('product_category_name_english')[column].ewm(span=span).mean().reset_index(0,drop=True)\n",
    "#     return df\n",
    "\n",
    "# # Fourier Terms for Seasonality\n",
    "# def fourier_series(dates, period, order):\n",
    "#     t = (dates - pd.Timestamp(\"1970-01-01\")) / pd.Timedelta('1D')\n",
    "#     return pd.DataFrame({f'fourier_cos_{period}_{n}': np.cos(2 * n * np.pi * t / period),\n",
    "#                          f'fourier_sin_{period}_{n}': np.sin(2 * n * np.pi * t / period)}\n",
    "#                         for n in range(1, order + 1))\n",
    "\n",
    "# # Price-related Features\n",
    "# def price_related_features(df):\n",
    "#     df['price_rolling_mean'] = df.groupby('product_category_name_english')['price'].rolling(window=7).mean().reset_index(0,drop=True)\n",
    "#     df['price_relative_to_mean'] = df['price'] / df['price_rolling_mean']\n",
    "#     return df\n",
    "\n",
    "# # Sold Items Quantity Features\n",
    "# def quantity_related_features(df):\n",
    "#     # Sort the dataframe by timestamp and category\n",
    "#     df = df.sort_values(['product_category_name_english', 'order_purchase_timestamp'])\n",
    "#     # Calculate rolling count of sold items quantity\n",
    "#     df['quantity_rolling_count'] = df.groupby('product_category_name_english')['order_item_id'].transform(\n",
    "#         lambda x: x.rolling(window='7D').count()\n",
    "#     )\n",
    "#     # Calculate daily quantity\n",
    "#     df['daily_quantity'] = df.groupby(['product_category_name_english', df['order_purchase_timestamp'].dt.date])['order_item_id'].transform('count')\n",
    "#     # Calculate quantity relative to rolling count\n",
    "#     df['quantity_relative_to_count'] = df['daily_quantity'] / df['quantity_rolling_count']\n",
    "#     # Calculate cumulative sum of sold items within each category\n",
    "#     df['cumulative_quantity'] = df.groupby('product_category_name_english')['daily_quantity'].cumsum()\n",
    "#     return df"
   ]
  },
  {
   "cell_type": "markdown",
   "metadata": {},
   "source": [
    "##### Final data pipeline that leverages functions written above"
   ]
  },
  {
   "cell_type": "code",
   "execution_count": 47,
   "metadata": {},
   "outputs": [],
   "source": [
    "def prepare_data(dataset):\n",
    "    dataset['Purchase Date'] = pd.to_datetime(dataset['Purchase Date'])\n",
    "    daily_sales = dataset.groupby(['Purchase Date', 'product_category_name_english'])['sold_products_quantity'].sum().reset_index()\n",
    "    return daily_sales.sort_values(['product_category_name_english', 'Purchase Date'])\n",
    "\n",
    "def create_forecast_data(last_date, forecast_end, category):\n",
    "    forecast_start = last_date + pd.Timedelta(days=1)\n",
    "    forecast_dates = pd.date_range(start=forecast_start, end=forecast_end, freq='D')\n",
    "    forecast_data = pd.DataFrame({'Purchase Date': forecast_dates, 'product_category_name_english': category})\n",
    "    forecast_data.set_index('Purchase Date', inplace=True)\n",
    "    return forecast_data"
   ]
  },
  {
   "cell_type": "markdown",
   "metadata": {},
   "source": [
    "##### Evaluation metrics"
   ]
  },
  {
   "cell_type": "code",
   "execution_count": 48,
   "metadata": {},
   "outputs": [],
   "source": [
    "def wmae(y_true, y_pred):\n",
    "    return np.sum(np.abs(y_true - y_pred) * np.arange(1, len(y_true)+1)) / np.sum(np.arange(1, len(y_true)+1))\n",
    "\n",
    "def bias(y_true, y_pred):\n",
    "    return np.mean(y_pred - y_true)"
   ]
  },
  {
   "cell_type": "markdown",
   "metadata": {},
   "source": [
    "##### Main function"
   ]
  },
  {
   "cell_type": "code",
   "execution_count": 49,
   "metadata": {},
   "outputs": [],
   "source": [
    "def xgboost_forecast(data, category, forecast_end='2018-09-24'):\n",
    "    data = data.set_index('Purchase Date')\n",
    "    \n",
    "    # Define features\n",
    "    features = ['product_category_name_english', 'dayofweek', 'quarter', 'month', 'year', 'dayofyear', 'dayofmonth', 'weekofyear']\n",
    "    \n",
    "    # Create pipeline\n",
    "    pipeline = Pipeline([\n",
    "        ('feature_engineer', FeatureEngineer()),\n",
    "        ('xgb', XGBRegressor(n_estimators=1000, learning_rate=0.05, random_state=42, enable_categorical=True))\n",
    "    ])\n",
    "    \n",
    "    # Split data into train and test\n",
    "    split_date = data.index.max() - pd.Timedelta(days=30)  # Use last 30 days as test set\n",
    "    train_data = data[data.index <= split_date]\n",
    "    test_data = data[data.index > split_date]\n",
    "    \n",
    "    # Fit the pipeline\n",
    "    pipeline.fit(train_data[['product_category_name_english']], train_data['sold_products_quantity'])\n",
    "    \n",
    "    # Make in-sample predictions\n",
    "    test_data_transformed = pipeline.named_steps['feature_engineer'].transform(test_data[['product_category_name_english']])\n",
    "    in_sample_forecast = pipeline.named_steps['xgb'].predict(test_data_transformed[features])\n",
    "    \n",
    "    # Prepare and make out-of-sample forecast\n",
    "    last_date = data.index.max()\n",
    "    forecast_data = create_forecast_data(last_date, forecast_end, category)\n",
    "    forecast_data_transformed = pipeline.named_steps['feature_engineer'].transform(forecast_data)\n",
    "    out_of_sample_forecast = pipeline.named_steps['xgb'].predict(forecast_data_transformed[features])\n",
    "    forecast_data['forecast'] = out_of_sample_forecast\n",
    "    \n",
    "    return test_data, in_sample_forecast, forecast_data"
   ]
  },
  {
   "cell_type": "markdown",
   "metadata": {},
   "source": [
    "##### Main execution"
   ]
  },
  {
   "cell_type": "code",
   "execution_count": 50,
   "metadata": {},
   "outputs": [
    {
     "name": "stderr",
     "output_type": "stream",
     "text": [
      "Processing categories:   0%|          | 0/73 [00:00<?, ?it/s]"
     ]
    },
    {
     "name": "stdout",
     "output_type": "stream",
     "text": [
      "\n",
      "Category: agro_industry_and_commerce, Last date: 2018-08-26 00:00:00\n"
     ]
    },
    {
     "name": "stderr",
     "output_type": "stream",
     "text": [
      "Processing categories:   1%|▏         | 1/73 [00:00<00:26,  2.76it/s]"
     ]
    },
    {
     "name": "stdout",
     "output_type": "stream",
     "text": [
      "\n",
      "Category: air_conditioning, Last date: 2018-08-25 00:00:00\n"
     ]
    },
    {
     "name": "stderr",
     "output_type": "stream",
     "text": [
      "Processing categories:   3%|▎         | 2/73 [00:00<00:30,  2.34it/s]"
     ]
    },
    {
     "name": "stdout",
     "output_type": "stream",
     "text": [
      "\n",
      "Category: art, Last date: 2018-08-27 00:00:00\n"
     ]
    },
    {
     "name": "stderr",
     "output_type": "stream",
     "text": [
      "Processing categories:   4%|▍         | 3/73 [00:01<00:27,  2.51it/s]"
     ]
    },
    {
     "name": "stdout",
     "output_type": "stream",
     "text": [
      "\n",
      "Category: arts_and_craftmanship, Last date: 2018-08-24 00:00:00\n"
     ]
    },
    {
     "name": "stderr",
     "output_type": "stream",
     "text": [
      "Processing categories:   5%|▌         | 4/73 [00:01<00:22,  3.12it/s]"
     ]
    },
    {
     "name": "stdout",
     "output_type": "stream",
     "text": [
      "\n",
      "Category: audio, Last date: 2018-08-28 00:00:00\n"
     ]
    },
    {
     "name": "stderr",
     "output_type": "stream",
     "text": [
      "Processing categories:   7%|▋         | 5/73 [00:01<00:26,  2.58it/s]"
     ]
    },
    {
     "name": "stdout",
     "output_type": "stream",
     "text": [
      "\n",
      "Category: auto, Last date: 2018-08-28 00:00:00\n"
     ]
    },
    {
     "name": "stderr",
     "output_type": "stream",
     "text": [
      "Processing categories:   8%|▊         | 6/73 [00:02<00:30,  2.22it/s]"
     ]
    },
    {
     "name": "stdout",
     "output_type": "stream",
     "text": [
      "\n",
      "Category: baby, Last date: 2018-08-28 00:00:00\n"
     ]
    },
    {
     "name": "stderr",
     "output_type": "stream",
     "text": [
      "Processing categories:  10%|▉         | 7/73 [00:03<00:31,  2.07it/s]"
     ]
    },
    {
     "name": "stdout",
     "output_type": "stream",
     "text": [
      "\n",
      "Category: bed_bath_table, Last date: 2018-08-28 00:00:00\n"
     ]
    },
    {
     "name": "stderr",
     "output_type": "stream",
     "text": [
      "Processing categories:  11%|█         | 8/73 [00:03<00:35,  1.83it/s]"
     ]
    },
    {
     "name": "stdout",
     "output_type": "stream",
     "text": [
      "\n",
      "Category: books_general_interest, Last date: 2018-08-27 00:00:00\n"
     ]
    },
    {
     "name": "stderr",
     "output_type": "stream",
     "text": [
      "Processing categories:  12%|█▏        | 9/73 [00:04<00:36,  1.74it/s]"
     ]
    },
    {
     "name": "stdout",
     "output_type": "stream",
     "text": [
      "\n",
      "Category: books_imported, Last date: 2018-08-07 00:00:00\n"
     ]
    },
    {
     "name": "stderr",
     "output_type": "stream",
     "text": [
      "Processing categories:  14%|█▎        | 10/73 [00:04<00:31,  1.99it/s]"
     ]
    },
    {
     "name": "stdout",
     "output_type": "stream",
     "text": [
      "\n",
      "Category: books_technical, Last date: 2018-08-23 00:00:00\n"
     ]
    },
    {
     "name": "stderr",
     "output_type": "stream",
     "text": [
      "Processing categories:  16%|█▋        | 12/73 [00:05<00:24,  2.50it/s]"
     ]
    },
    {
     "name": "stdout",
     "output_type": "stream",
     "text": [
      "\n",
      "Category: cds_dvds_musicals, Last date: 2018-04-20 00:00:00\n",
      "\n",
      "Category: christmas_supplies, Last date: 2018-08-19 00:00:00\n"
     ]
    },
    {
     "name": "stderr",
     "output_type": "stream",
     "text": [
      "Processing categories:  18%|█▊        | 13/73 [00:05<00:22,  2.67it/s]"
     ]
    },
    {
     "name": "stdout",
     "output_type": "stream",
     "text": [
      "\n",
      "Category: cine_photo, Last date: 2018-08-25 00:00:00\n"
     ]
    },
    {
     "name": "stderr",
     "output_type": "stream",
     "text": [
      "Processing categories:  19%|█▉        | 14/73 [00:05<00:19,  2.95it/s]"
     ]
    },
    {
     "name": "stdout",
     "output_type": "stream",
     "text": [
      "\n",
      "Category: computers, Last date: 2018-08-22 00:00:00\n"
     ]
    },
    {
     "name": "stderr",
     "output_type": "stream",
     "text": [
      "Processing categories:  21%|██        | 15/73 [00:06<00:19,  2.92it/s]"
     ]
    },
    {
     "name": "stdout",
     "output_type": "stream",
     "text": [
      "\n",
      "Category: computers_accessories, Last date: 2018-08-29 00:00:00\n"
     ]
    },
    {
     "name": "stderr",
     "output_type": "stream",
     "text": [
      "Processing categories:  22%|██▏       | 16/73 [00:06<00:22,  2.49it/s]"
     ]
    },
    {
     "name": "stdout",
     "output_type": "stream",
     "text": [
      "\n",
      "Category: consoles_games, Last date: 2018-08-28 00:00:00\n"
     ]
    },
    {
     "name": "stderr",
     "output_type": "stream",
     "text": [
      "Processing categories:  23%|██▎       | 17/73 [00:07<00:24,  2.28it/s]"
     ]
    },
    {
     "name": "stdout",
     "output_type": "stream",
     "text": [
      "\n",
      "Category: construction_tools_construction, Last date: 2018-08-27 00:00:00\n"
     ]
    },
    {
     "name": "stderr",
     "output_type": "stream",
     "text": [
      "Processing categories:  25%|██▍       | 18/73 [00:07<00:26,  2.07it/s]"
     ]
    },
    {
     "name": "stdout",
     "output_type": "stream",
     "text": [
      "\n",
      "Category: construction_tools_lights, Last date: 2018-08-28 00:00:00\n"
     ]
    },
    {
     "name": "stderr",
     "output_type": "stream",
     "text": [
      "Processing categories:  26%|██▌       | 19/73 [00:08<00:24,  2.18it/s]"
     ]
    },
    {
     "name": "stdout",
     "output_type": "stream",
     "text": [
      "\n",
      "Category: construction_tools_safety, Last date: 2018-08-24 00:00:00\n"
     ]
    },
    {
     "name": "stderr",
     "output_type": "stream",
     "text": [
      "Processing categories:  27%|██▋       | 20/73 [00:08<00:23,  2.27it/s]"
     ]
    },
    {
     "name": "stdout",
     "output_type": "stream",
     "text": [
      "\n",
      "Category: cool_stuff, Last date: 2018-08-28 00:00:00\n"
     ]
    },
    {
     "name": "stderr",
     "output_type": "stream",
     "text": [
      "Processing categories:  29%|██▉       | 21/73 [00:09<00:24,  2.15it/s]"
     ]
    },
    {
     "name": "stdout",
     "output_type": "stream",
     "text": [
      "\n",
      "Category: costruction_tools_garden, Last date: 2018-08-28 00:00:00\n"
     ]
    },
    {
     "name": "stderr",
     "output_type": "stream",
     "text": [
      "Processing categories:  30%|███       | 22/73 [00:09<00:22,  2.28it/s]"
     ]
    },
    {
     "name": "stdout",
     "output_type": "stream",
     "text": [
      "\n",
      "Category: costruction_tools_tools, Last date: 2018-08-22 00:00:00\n"
     ]
    },
    {
     "name": "stderr",
     "output_type": "stream",
     "text": [
      "Processing categories:  33%|███▎      | 24/73 [00:10<00:16,  2.98it/s]"
     ]
    },
    {
     "name": "stdout",
     "output_type": "stream",
     "text": [
      "\n",
      "Category: diapers_and_hygiene, Last date: 2018-08-26 00:00:00\n",
      "\n",
      "Category: drinks, Last date: 2018-08-27 00:00:00\n"
     ]
    },
    {
     "name": "stderr",
     "output_type": "stream",
     "text": [
      "Processing categories:  34%|███▍      | 25/73 [00:10<00:17,  2.69it/s]"
     ]
    },
    {
     "name": "stdout",
     "output_type": "stream",
     "text": [
      "\n",
      "Category: dvds_blu_ray, Last date: 2018-08-23 00:00:00\n"
     ]
    },
    {
     "name": "stderr",
     "output_type": "stream",
     "text": [
      "Processing categories:  36%|███▌      | 26/73 [00:11<00:18,  2.48it/s]"
     ]
    },
    {
     "name": "stdout",
     "output_type": "stream",
     "text": [
      "\n",
      "Category: electronics, Last date: 2018-08-26 00:00:00\n"
     ]
    },
    {
     "name": "stderr",
     "output_type": "stream",
     "text": [
      "Processing categories:  37%|███▋      | 27/73 [00:11<00:22,  2.06it/s]"
     ]
    },
    {
     "name": "stdout",
     "output_type": "stream",
     "text": [
      "\n",
      "Category: fashio_female_clothing, Last date: 2018-08-22 00:00:00\n"
     ]
    },
    {
     "name": "stderr",
     "output_type": "stream",
     "text": [
      "Processing categories:  38%|███▊      | 28/73 [00:11<00:19,  2.35it/s]"
     ]
    },
    {
     "name": "stdout",
     "output_type": "stream",
     "text": [
      "\n",
      "Category: fashion_bags_accessories, Last date: 2018-08-28 00:00:00\n"
     ]
    },
    {
     "name": "stderr",
     "output_type": "stream",
     "text": [
      "Processing categories:  40%|███▉      | 29/73 [00:12<00:21,  2.03it/s]"
     ]
    },
    {
     "name": "stdout",
     "output_type": "stream",
     "text": [
      "\n",
      "Category: fashion_childrens_clothes, Last date: 2018-06-03 00:00:00\n"
     ]
    },
    {
     "name": "stderr",
     "output_type": "stream",
     "text": [
      "Processing categories:  41%|████      | 30/73 [00:12<00:17,  2.46it/s]"
     ]
    },
    {
     "name": "stdout",
     "output_type": "stream",
     "text": [
      "\n",
      "Category: fashion_male_clothing, Last date: 2018-08-17 00:00:00\n"
     ]
    },
    {
     "name": "stderr",
     "output_type": "stream",
     "text": [
      "Processing categories:  42%|████▏     | 31/73 [00:13<00:16,  2.55it/s]"
     ]
    },
    {
     "name": "stdout",
     "output_type": "stream",
     "text": [
      "\n",
      "Category: fashion_shoes, Last date: 2018-08-21 00:00:00\n"
     ]
    },
    {
     "name": "stderr",
     "output_type": "stream",
     "text": [
      "Processing categories:  44%|████▍     | 32/73 [00:13<00:17,  2.34it/s]"
     ]
    },
    {
     "name": "stdout",
     "output_type": "stream",
     "text": [
      "\n",
      "Category: fashion_sport, Last date: 2018-08-19 00:00:00\n"
     ]
    },
    {
     "name": "stderr",
     "output_type": "stream",
     "text": [
      "Processing categories:  45%|████▌     | 33/73 [00:13<00:14,  2.73it/s]"
     ]
    },
    {
     "name": "stdout",
     "output_type": "stream",
     "text": [
      "\n",
      "Category: fashion_underwear_beach, Last date: 2018-08-09 00:00:00\n"
     ]
    },
    {
     "name": "stderr",
     "output_type": "stream",
     "text": [
      "Processing categories:  47%|████▋     | 34/73 [00:14<00:14,  2.75it/s]"
     ]
    },
    {
     "name": "stdout",
     "output_type": "stream",
     "text": [
      "\n",
      "Category: fixed_telephony, Last date: 2018-08-13 00:00:00\n"
     ]
    },
    {
     "name": "stderr",
     "output_type": "stream",
     "text": [
      "Processing categories:  48%|████▊     | 35/73 [00:14<00:15,  2.49it/s]"
     ]
    },
    {
     "name": "stdout",
     "output_type": "stream",
     "text": [
      "\n",
      "Category: flowers, Last date: 2018-07-19 00:00:00\n"
     ]
    },
    {
     "name": "stderr",
     "output_type": "stream",
     "text": [
      "Processing categories:  49%|████▉     | 36/73 [00:15<00:13,  2.77it/s]"
     ]
    },
    {
     "name": "stdout",
     "output_type": "stream",
     "text": [
      "\n",
      "Category: food, Last date: 2018-08-29 00:00:00\n"
     ]
    },
    {
     "name": "stderr",
     "output_type": "stream",
     "text": [
      "Processing categories:  51%|█████     | 37/73 [00:15<00:16,  2.21it/s]"
     ]
    },
    {
     "name": "stdout",
     "output_type": "stream",
     "text": [
      "\n",
      "Category: food_drink, Last date: 2018-08-23 00:00:00\n"
     ]
    },
    {
     "name": "stderr",
     "output_type": "stream",
     "text": [
      "Processing categories:  52%|█████▏    | 38/73 [00:16<00:16,  2.10it/s]"
     ]
    },
    {
     "name": "stdout",
     "output_type": "stream",
     "text": [
      "\n",
      "Category: furniture_bedroom, Last date: 2018-08-25 00:00:00\n"
     ]
    },
    {
     "name": "stderr",
     "output_type": "stream",
     "text": [
      "Processing categories:  53%|█████▎    | 39/73 [00:16<00:14,  2.33it/s]"
     ]
    },
    {
     "name": "stdout",
     "output_type": "stream",
     "text": [
      "\n",
      "Category: furniture_decor, Last date: 2018-08-28 00:00:00\n"
     ]
    },
    {
     "name": "stderr",
     "output_type": "stream",
     "text": [
      "Processing categories:  55%|█████▍    | 40/73 [00:17<00:18,  1.78it/s]"
     ]
    },
    {
     "name": "stdout",
     "output_type": "stream",
     "text": [
      "\n",
      "Category: furniture_living_room, Last date: 2018-08-24 00:00:00\n"
     ]
    },
    {
     "name": "stderr",
     "output_type": "stream",
     "text": [
      "Processing categories:  56%|█████▌    | 41/73 [00:18<00:18,  1.73it/s]"
     ]
    },
    {
     "name": "stdout",
     "output_type": "stream",
     "text": [
      "\n",
      "Category: furniture_mattress_and_upholstery, Last date: 2018-07-03 00:00:00\n"
     ]
    },
    {
     "name": "stderr",
     "output_type": "stream",
     "text": [
      "Processing categories:  58%|█████▊    | 42/73 [00:18<00:14,  2.09it/s]"
     ]
    },
    {
     "name": "stdout",
     "output_type": "stream",
     "text": [
      "\n",
      "Category: garden_tools, Last date: 2018-08-27 00:00:00\n"
     ]
    },
    {
     "name": "stderr",
     "output_type": "stream",
     "text": [
      "Processing categories:  59%|█████▉    | 43/73 [00:19<00:16,  1.81it/s]"
     ]
    },
    {
     "name": "stdout",
     "output_type": "stream",
     "text": [
      "\n",
      "Category: health_beauty, Last date: 2018-08-29 00:00:00\n"
     ]
    },
    {
     "name": "stderr",
     "output_type": "stream",
     "text": [
      "Processing categories:  60%|██████    | 44/73 [00:19<00:17,  1.63it/s]"
     ]
    },
    {
     "name": "stdout",
     "output_type": "stream",
     "text": [
      "\n",
      "Category: home_appliances, Last date: 2018-08-25 00:00:00\n"
     ]
    },
    {
     "name": "stderr",
     "output_type": "stream",
     "text": [
      "Processing categories:  62%|██████▏   | 45/73 [00:20<00:17,  1.61it/s]"
     ]
    },
    {
     "name": "stdout",
     "output_type": "stream",
     "text": [
      "\n",
      "Category: home_appliances_2, Last date: 2018-08-23 00:00:00\n"
     ]
    },
    {
     "name": "stderr",
     "output_type": "stream",
     "text": [
      "Processing categories:  63%|██████▎   | 46/73 [00:21<00:16,  1.62it/s]"
     ]
    },
    {
     "name": "stdout",
     "output_type": "stream",
     "text": [
      "\n",
      "Category: home_comfort_2, Last date: 2018-07-28 00:00:00\n"
     ]
    },
    {
     "name": "stderr",
     "output_type": "stream",
     "text": [
      "Processing categories:  64%|██████▍   | 47/73 [00:21<00:13,  1.93it/s]"
     ]
    },
    {
     "name": "stdout",
     "output_type": "stream",
     "text": [
      "\n",
      "Category: home_confort, Last date: 2018-08-24 00:00:00\n"
     ]
    },
    {
     "name": "stderr",
     "output_type": "stream",
     "text": [
      "Processing categories:  66%|██████▌   | 48/73 [00:21<00:14,  1.77it/s]"
     ]
    },
    {
     "name": "stdout",
     "output_type": "stream",
     "text": [
      "\n",
      "Category: home_construction, Last date: 2018-08-26 00:00:00\n"
     ]
    },
    {
     "name": "stderr",
     "output_type": "stream",
     "text": [
      "Processing categories:  67%|██████▋   | 49/73 [00:22<00:13,  1.75it/s]"
     ]
    },
    {
     "name": "stdout",
     "output_type": "stream",
     "text": [
      "\n",
      "Category: housewares, Last date: 2018-08-28 00:00:00\n"
     ]
    },
    {
     "name": "stderr",
     "output_type": "stream",
     "text": [
      "Processing categories:  68%|██████▊   | 50/73 [00:23<00:13,  1.72it/s]"
     ]
    },
    {
     "name": "stdout",
     "output_type": "stream",
     "text": [
      "\n",
      "Category: industry_commerce_and_business, Last date: 2018-08-26 00:00:00\n"
     ]
    },
    {
     "name": "stderr",
     "output_type": "stream",
     "text": [
      "Processing categories:  70%|██████▉   | 51/73 [00:23<00:12,  1.80it/s]"
     ]
    },
    {
     "name": "stdout",
     "output_type": "stream",
     "text": [
      "\n",
      "Category: kitchen_dining_laundry_garden_furniture, Last date: 2018-09-03 00:00:00\n"
     ]
    },
    {
     "name": "stderr",
     "output_type": "stream",
     "text": [
      "Processing categories:  73%|███████▎  | 53/73 [00:24<00:08,  2.22it/s]"
     ]
    },
    {
     "name": "stdout",
     "output_type": "stream",
     "text": [
      "\n",
      "Category: la_cuisine, Last date: 2018-04-17 00:00:00\n",
      "\n",
      "Category: luggage_accessories, Last date: 2018-08-27 00:00:00\n"
     ]
    },
    {
     "name": "stderr",
     "output_type": "stream",
     "text": [
      "Processing categories:  74%|███████▍  | 54/73 [00:25<00:09,  1.97it/s]"
     ]
    },
    {
     "name": "stdout",
     "output_type": "stream",
     "text": [
      "\n",
      "Category: market_place, Last date: 2018-08-22 00:00:00\n"
     ]
    },
    {
     "name": "stderr",
     "output_type": "stream",
     "text": [
      "Processing categories:  77%|███████▋  | 56/73 [00:25<00:07,  2.29it/s]"
     ]
    },
    {
     "name": "stdout",
     "output_type": "stream",
     "text": [
      "\n",
      "Category: music, Last date: 2018-08-19 00:00:00\n",
      "\n",
      "Category: musical_instruments, Last date: 2018-08-22 00:00:00\n"
     ]
    },
    {
     "name": "stderr",
     "output_type": "stream",
     "text": [
      "Processing categories:  78%|███████▊  | 57/73 [00:26<00:08,  2.00it/s]"
     ]
    },
    {
     "name": "stdout",
     "output_type": "stream",
     "text": [
      "\n",
      "Category: office_furniture, Last date: 2018-08-28 00:00:00\n"
     ]
    },
    {
     "name": "stderr",
     "output_type": "stream",
     "text": [
      "Processing categories:  79%|███████▉  | 58/73 [00:27<00:08,  1.79it/s]"
     ]
    },
    {
     "name": "stdout",
     "output_type": "stream",
     "text": [
      "\n",
      "Category: party_supplies, Last date: 2018-08-29 00:00:00\n"
     ]
    },
    {
     "name": "stderr",
     "output_type": "stream",
     "text": [
      "Processing categories:  82%|████████▏ | 60/73 [00:27<00:05,  2.56it/s]"
     ]
    },
    {
     "name": "stdout",
     "output_type": "stream",
     "text": [
      "\n",
      "Category: pc_gamer, Last date: 2018-08-18 00:00:00\n",
      "\n",
      "Category: perfumery, Last date: 2018-08-27 00:00:00\n"
     ]
    },
    {
     "name": "stderr",
     "output_type": "stream",
     "text": [
      "Processing categories:  84%|████████▎ | 61/73 [00:28<00:05,  2.06it/s]"
     ]
    },
    {
     "name": "stdout",
     "output_type": "stream",
     "text": [
      "\n",
      "Category: pet_shop, Last date: 2018-08-26 00:00:00\n"
     ]
    },
    {
     "name": "stderr",
     "output_type": "stream",
     "text": [
      "Processing categories:  85%|████████▍ | 62/73 [00:29<00:05,  1.86it/s]"
     ]
    },
    {
     "name": "stdout",
     "output_type": "stream",
     "text": [
      "\n",
      "Category: portateis_cozinha_e_preparadores_de_alimentos, Last date: 2018-08-27 00:00:00\n"
     ]
    },
    {
     "name": "stderr",
     "output_type": "stream",
     "text": [
      "Processing categories:  88%|████████▊ | 64/73 [00:29<00:03,  2.64it/s]"
     ]
    },
    {
     "name": "stdout",
     "output_type": "stream",
     "text": [
      "\n",
      "Category: security_and_services, Last date: 2017-09-17 00:00:00\n",
      "\n",
      "Category: signaling_and_security, Last date: 2018-08-24 00:00:00\n"
     ]
    },
    {
     "name": "stderr",
     "output_type": "stream",
     "text": [
      "Processing categories:  89%|████████▉ | 65/73 [00:29<00:03,  2.49it/s]"
     ]
    },
    {
     "name": "stdout",
     "output_type": "stream",
     "text": [
      "\n",
      "Category: small_appliances, Last date: 2018-08-22 00:00:00\n"
     ]
    },
    {
     "name": "stderr",
     "output_type": "stream",
     "text": [
      "Processing categories:  90%|█████████ | 66/73 [00:30<00:03,  2.09it/s]"
     ]
    },
    {
     "name": "stdout",
     "output_type": "stream",
     "text": [
      "\n",
      "Category: small_appliances_home_oven_and_coffee, Last date: 2018-08-23 00:00:00\n"
     ]
    },
    {
     "name": "stderr",
     "output_type": "stream",
     "text": [
      "Processing categories:  92%|█████████▏| 67/73 [00:30<00:02,  2.39it/s]"
     ]
    },
    {
     "name": "stdout",
     "output_type": "stream",
     "text": [
      "\n",
      "Category: sports_leisure, Last date: 2018-08-29 00:00:00\n"
     ]
    },
    {
     "name": "stderr",
     "output_type": "stream",
     "text": [
      "Processing categories:  93%|█████████▎| 68/73 [00:31<00:02,  2.10it/s]"
     ]
    },
    {
     "name": "stdout",
     "output_type": "stream",
     "text": [
      "\n",
      "Category: stationery, Last date: 2018-08-27 00:00:00\n"
     ]
    },
    {
     "name": "stderr",
     "output_type": "stream",
     "text": [
      "Processing categories:  95%|█████████▍| 69/73 [00:32<00:02,  1.92it/s]"
     ]
    },
    {
     "name": "stdout",
     "output_type": "stream",
     "text": [
      "\n",
      "Category: tablets_printing_image, Last date: 2018-06-09 00:00:00\n"
     ]
    },
    {
     "name": "stderr",
     "output_type": "stream",
     "text": [
      "Processing categories:  96%|█████████▌| 70/73 [00:32<00:01,  2.18it/s]"
     ]
    },
    {
     "name": "stdout",
     "output_type": "stream",
     "text": [
      "\n",
      "Category: telephony, Last date: 2018-08-28 00:00:00\n"
     ]
    },
    {
     "name": "stderr",
     "output_type": "stream",
     "text": [
      "Processing categories:  97%|█████████▋| 71/73 [00:33<00:01,  1.93it/s]"
     ]
    },
    {
     "name": "stdout",
     "output_type": "stream",
     "text": [
      "\n",
      "Category: toys, Last date: 2018-08-29 00:00:00\n"
     ]
    },
    {
     "name": "stderr",
     "output_type": "stream",
     "text": [
      "Processing categories:  99%|█████████▊| 72/73 [00:33<00:00,  1.70it/s]"
     ]
    },
    {
     "name": "stdout",
     "output_type": "stream",
     "text": [
      "\n",
      "Category: watches_gifts, Last date: 2018-08-29 00:00:00\n"
     ]
    },
    {
     "name": "stderr",
     "output_type": "stream",
     "text": [
      "Processing categories: 100%|██████████| 73/73 [00:34<00:00,  2.11it/s]\n"
     ]
    }
   ],
   "source": [
    "data = prepare_data(dataset)\n",
    "\n",
    "forecasts = {}\n",
    "metrics = {}\n",
    "\n",
    "for category in tqdm(data['product_category_name_english'].unique(), desc=\"Processing categories\"):\n",
    "    category_data = data[data['product_category_name_english'] == category]\n",
    "    \n",
    "    # Check last available date for the category\n",
    "    last_date = category_data['Purchase Date'].max()\n",
    "    print(f\"\\nCategory: {category}, Last date: {last_date}\")\n",
    "    \n",
    "    if last_date >= pd.Timestamp('2018-09-24'):\n",
    "        print(f\"Skipping forecast for {category} as data is available up to or beyond 2018-09-24\")\n",
    "        continue\n",
    "    \n",
    "    test_data, in_sample_forecast, forecast_data = xgboost_forecast(category_data, category, forecast_end='2018-09-24')\n",
    "    \n",
    "    # Calculate metrics\n",
    "    mae = mean_absolute_error(test_data['sold_products_quantity'], in_sample_forecast)\n",
    "    wmae_score = wmae(test_data['sold_products_quantity'].values, in_sample_forecast)\n",
    "    bias_score = bias(test_data['sold_products_quantity'].values, in_sample_forecast)\n",
    "    \n",
    "    metrics[category] = {\n",
    "        'MAE': mae,\n",
    "        'WMAE': wmae_score,\n",
    "        'Bias': bias_score,\n",
    "        'Last_Date': last_date\n",
    "    }\n",
    "    \n",
    "    forecasts[category] = forecast_data['forecast']"
   ]
  },
  {
   "cell_type": "code",
   "execution_count": 51,
   "metadata": {},
   "outputs": [
    {
     "name": "stdout",
     "output_type": "stream",
     "text": [
      "\n",
      "Forecasts up to 2018-09-24:\n",
      "               agro_industry_and_commerce  air_conditioning       art  \\\n",
      "Purchase Date                                                           \n",
      "2017-09-18                            NaN               NaN       NaN   \n",
      "2017-09-19                            NaN               NaN       NaN   \n",
      "2017-09-20                            NaN               NaN       NaN   \n",
      "2017-09-21                            NaN               NaN       NaN   \n",
      "2017-09-22                            NaN               NaN       NaN   \n",
      "...                                   ...               ...       ...   \n",
      "2018-09-20                       2.094255          1.039503  1.002913   \n",
      "2018-09-21                       2.508539          1.139947  0.978940   \n",
      "2018-09-22                       1.822733          0.958454  1.105342   \n",
      "2018-09-23                       2.015668          1.043854  1.122530   \n",
      "2018-09-24                       1.655123          1.137339  1.130967   \n",
      "\n",
      "               arts_and_craftmanship     audio       auto       baby  \\\n",
      "Purchase Date                                                          \n",
      "2017-09-18                       NaN       NaN        NaN        NaN   \n",
      "2017-09-19                       NaN       NaN        NaN        NaN   \n",
      "2017-09-20                       NaN       NaN        NaN        NaN   \n",
      "2017-09-21                       NaN       NaN        NaN        NaN   \n",
      "2017-09-22                       NaN       NaN        NaN        NaN   \n",
      "...                              ...       ...        ...        ...   \n",
      "2018-09-20                  1.000299  2.194730  13.769504   5.367962   \n",
      "2018-09-21                  1.000299  2.166204   8.910815   6.680160   \n",
      "2018-09-22                  1.000299  3.445760  10.218439   8.760050   \n",
      "2018-09-23                  1.000299  4.392210  10.135934   9.885673   \n",
      "2018-09-24                  2.997810  2.427897  15.562325  11.491789   \n",
      "\n",
      "               bed_bath_table  books_general_interest  books_imported  ...  \\\n",
      "Purchase Date                                                          ...   \n",
      "2017-09-18                NaN                     NaN             NaN  ...   \n",
      "2017-09-19                NaN                     NaN             NaN  ...   \n",
      "2017-09-20                NaN                     NaN             NaN  ...   \n",
      "2017-09-21                NaN                     NaN             NaN  ...   \n",
      "2017-09-22                NaN                     NaN             NaN  ...   \n",
      "...                       ...                     ...             ...  ...   \n",
      "2018-09-20          29.227339                1.088180        1.058396  ...   \n",
      "2018-09-21          21.758671                1.166052        1.077469  ...   \n",
      "2018-09-22          15.476658                2.974858        1.071849  ...   \n",
      "2018-09-23          23.050629                1.329734        1.072532  ...   \n",
      "2018-09-24          24.870230                2.086924        1.710337  ...   \n",
      "\n",
      "               security_and_services  signaling_and_security  \\\n",
      "Purchase Date                                                  \n",
      "2017-09-18                       1.0                     NaN   \n",
      "2017-09-19                       1.0                     NaN   \n",
      "2017-09-20                       1.0                     NaN   \n",
      "2017-09-21                       1.0                     NaN   \n",
      "2017-09-22                       1.0                     NaN   \n",
      "...                              ...                     ...   \n",
      "2018-09-20                       1.0                3.291591   \n",
      "2018-09-21                       1.0                1.957104   \n",
      "2018-09-22                       1.0                1.044106   \n",
      "2018-09-23                       1.0                1.112015   \n",
      "2018-09-24                       1.0                1.286809   \n",
      "\n",
      "               small_appliances  small_appliances_home_oven_and_coffee  \\\n",
      "Purchase Date                                                            \n",
      "2017-09-18                  NaN                                    NaN   \n",
      "2017-09-19                  NaN                                    NaN   \n",
      "2017-09-20                  NaN                                    NaN   \n",
      "2017-09-21                  NaN                                    NaN   \n",
      "2017-09-22                  NaN                                    NaN   \n",
      "...                         ...                                    ...   \n",
      "2018-09-20             3.512509                               0.989252   \n",
      "2018-09-21             1.496938                               0.992306   \n",
      "2018-09-22             1.185676                               0.990909   \n",
      "2018-09-23             0.945999                               0.991070   \n",
      "2018-09-24             1.875044                               1.011342   \n",
      "\n",
      "               sports_leisure  stationery  tablets_printing_image  telephony  \\\n",
      "Purchase Date                                                                  \n",
      "2017-09-18                NaN         NaN                     NaN        NaN   \n",
      "2017-09-19                NaN         NaN                     NaN        NaN   \n",
      "2017-09-20                NaN         NaN                     NaN        NaN   \n",
      "2017-09-21                NaN         NaN                     NaN        NaN   \n",
      "2017-09-22                NaN         NaN                     NaN        NaN   \n",
      "...                       ...         ...                     ...        ...   \n",
      "2018-09-20          25.208122    9.536062                1.623354   5.471037   \n",
      "2018-09-21          26.569618    5.755563                1.737657   6.611226   \n",
      "2018-09-22          13.064927    3.152801                1.682195   5.993542   \n",
      "2018-09-23           9.918227    2.949348                1.577352   4.179411   \n",
      "2018-09-24          19.805347    9.618515                1.005983   5.300740   \n",
      "\n",
      "                    toys  watches_gifts  \n",
      "Purchase Date                            \n",
      "2017-09-18           NaN            NaN  \n",
      "2017-09-19           NaN            NaN  \n",
      "2017-09-20           NaN            NaN  \n",
      "2017-09-21           NaN            NaN  \n",
      "2017-09-22           NaN            NaN  \n",
      "...                  ...            ...  \n",
      "2018-09-20     13.524753      20.340685  \n",
      "2018-09-21      9.037450      23.817120  \n",
      "2018-09-22      8.328647      18.859955  \n",
      "2018-09-23      7.025527      12.540718  \n",
      "2018-09-24     12.867247      15.685057  \n",
      "\n",
      "[372 rows x 73 columns]\n",
      "\n",
      "Metrics for each category:\n",
      "                                 MAE      WMAE      Bias            Last_Date\n",
      "agro_industry_and_commerce  1.357942   1.52261  0.346984  2018-08-26 00:00:00\n",
      "air_conditioning            0.765483  0.829151 -0.214114  2018-08-25 00:00:00\n",
      "art                         0.481188   0.43105 -0.026296  2018-08-27 00:00:00\n",
      "arts_and_craftmanship       0.272723  0.197073  0.090959  2018-08-24 00:00:00\n",
      "audio                        1.07395  1.227549  0.373432  2018-08-28 00:00:00\n",
      "...                              ...       ...       ...                  ...\n",
      "stationery                  3.879436   3.92628  0.878636  2018-08-27 00:00:00\n",
      "tablets_printing_image      0.004345  0.004856 -0.004345  2018-06-09 00:00:00\n",
      "telephony                    5.52323  4.136007 -3.879846  2018-08-28 00:00:00\n",
      "toys                        2.762295  2.239729 -1.054974  2018-08-29 00:00:00\n",
      "watches_gifts               7.457652  8.361992  2.198191  2018-08-29 00:00:00\n",
      "\n",
      "[73 rows x 4 columns]\n",
      "Forecasts have been saved to 'XGBoost_category_demand_forecasts.csv'\n",
      "Metrics have been saved to 'XGBoost_category_demand_metrics.csv'\n"
     ]
    }
   ],
   "source": [
    "# Create DataFrames with all forecasts and metrics\n",
    "forecast_df = pd.DataFrame(forecasts)\n",
    "metrics_df = pd.DataFrame(metrics).T\n",
    "\n",
    "print(\"\\nForecasts up to 2018-09-24:\")\n",
    "print(forecast_df)\n",
    "print(\"\\nMetrics for each category:\")\n",
    "print(metrics_df)\n",
    "\n",
    "forecast_df.to_csv('XGBoost_category_demand_forecasts.csv')\n",
    "metrics_df.to_csv('XGBoost_category_demand_metrics.csv')\n",
    "print(\"Forecasts have been saved to 'XGBoost_category_demand_forecasts.csv'\")\n",
    "print(\"Metrics have been saved to 'XGBoost_category_demand_metrics.csv'\")"
   ]
  }
 ],
 "metadata": {
  "kernelspec": {
   "display_name": "demand_forecast",
   "language": "python",
   "name": "python3"
  },
  "language_info": {
   "codemirror_mode": {
    "name": "ipython",
    "version": 3
   },
   "file_extension": ".py",
   "mimetype": "text/x-python",
   "name": "python",
   "nbconvert_exporter": "python",
   "pygments_lexer": "ipython3",
   "version": "3.10.14"
  }
 },
 "nbformat": 4,
 "nbformat_minor": 2
}
